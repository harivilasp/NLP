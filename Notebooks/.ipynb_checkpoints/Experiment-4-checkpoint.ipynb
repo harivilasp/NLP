{
 "cells": [
  {
   "cell_type": "code",
   "execution_count": 4,
   "metadata": {},
   "outputs": [
    {
     "name": "stdout",
     "output_type": "stream",
     "text": [
      "After stopword removal:  ['My', 'fellow', 'citizens', ':', 'I', 'stand', 'here', ...]\n"
     ]
    }
   ],
   "source": [
    "#!/usr/bin/env python3\n",
    "# -*- coding: utf-8 -*-\n",
    "\"\"\"\n",
    "\n",
    "@author: jacobjohn\n",
    "\n",
    "\"\"\"\n",
    "import nltk\n",
    "from nltk.corpus import stopwords\n",
    "from nltk.corpus import inaugural\n",
    "from nltk.corpus import wordnet as wn\n",
    "from nltk.tokenize import TweetTokenizer\n",
    "import tweepy\n",
    "\n",
    "##Using Obama's inaugural speech\n",
    "Obama = inaugural.words(fileids = '2009-Obama.txt')\n",
    "\n",
    "##stopword removal\n",
    "stop_words = set(stopwords.words('english')) \n",
    "filtered_sentence = [w for w in Obama if not w in stop_words]\n",
    "print(\"After stopword removal: \", Obama)"
   ]
  },
  {
   "cell_type": "code",
   "execution_count": 28,
   "metadata": {},
   "outputs": [
    {
     "name": "stdout",
     "output_type": "stream",
     "text": [
      "Number of entries:  133737\n",
      "CMU word list:  ('belford', ['B', 'EH1', 'L', 'F', 'ER0', 'D'])\n",
      "CMU word list:  ('belfry', ['B', 'EH1', 'L', 'F', 'R', 'IY0'])\n",
      "CMU word list:  ('belgacom', ['B', 'EH1', 'L', 'G', 'AH0', 'K', 'AA0', 'M'])\n",
      "CMU word list:  ('belgacom', ['B', 'EH1', 'L', 'JH', 'AH0', 'K', 'AA0', 'M'])\n",
      "CMU word list:  ('belgard', ['B', 'EH0', 'L', 'G', 'AA1', 'R', 'D'])\n",
      "CMU word list:  ('belgarde', ['B', 'EH0', 'L', 'G', 'AA1', 'R', 'D', 'IY0'])\n",
      "CMU word list:  ('belge', ['B', 'EH1', 'L', 'JH', 'IY0'])\n",
      "CMU word list:  ('belger', ['B', 'EH1', 'L', 'G', 'ER0'])\n",
      "CMU word list:  ('belgian', ['B', 'EH1', 'L', 'JH', 'AH0', 'N'])\n",
      "CMU word list:  ('belgians', ['B', 'EH1', 'L', 'JH', 'AH0', 'N', 'Z'])\n",
      "CMU word list:  ('belgique', ['B', 'EH0', 'L', 'ZH', 'IY1', 'K'])\n",
      "CMU word list:  (\"belgique's\", ['B', 'EH0', 'L', 'JH', 'IY1', 'K', 'S'])\n",
      "CMU word list:  ('belgium', ['B', 'EH1', 'L', 'JH', 'AH0', 'M'])\n",
      "CMU word list:  (\"belgium's\", ['B', 'EH1', 'L', 'JH', 'AH0', 'M', 'Z'])\n",
      "CMU word list:  ('belgo', ['B', 'EH1', 'L', 'G', 'OW2'])\n",
      "CMU word list:  ('belgrade', ['B', 'EH1', 'L', 'G', 'R', 'EY0', 'D'])\n",
      "CMU word list:  ('belgrade', ['B', 'EH1', 'L', 'G', 'R', 'AA2', 'D'])\n",
      "CMU word list:  (\"belgrade's\", ['B', 'EH1', 'L', 'G', 'R', 'EY0', 'D', 'Z'])\n",
      "CMU word list:  (\"belgrade's\", ['B', 'EH1', 'L', 'G', 'R', 'AA2', 'D', 'Z'])\n",
      "CMU word list:  ('belgrave', ['B', 'EH1', 'L', 'G', 'R', 'EY2', 'V'])\n",
      "CMU word list:  ('beli', ['B', 'EH1', 'L', 'IY0'])\n",
      "CMU word list:  ('belich', ['B', 'EH1', 'L', 'IH0', 'K'])\n",
      "CMU word list:  ('belie', ['B', 'IH0', 'L', 'AY1'])\n",
      "CMU word list:  ('belied', ['B', 'IH0', 'L', 'AY1', 'D'])\n",
      "CMU word list:  ('belief', ['B', 'IH0', 'L', 'IY1', 'F'])\n"
     ]
    }
   ],
   "source": [
    "##CMU wordlist\n",
    "entries = nltk.corpus.cmudict.entries()\n",
    "print(\"Number of entries: \", len(entries))\n",
    "for entry in entries[10000:10025]:\n",
    "    print(\"CMU word list: \", entry)"
   ]
  },
  {
   "cell_type": "code",
   "execution_count": 17,
   "metadata": {},
   "outputs": [
    {
     "data": {
      "text/plain": [
       "['car', 'auto', 'automobile', 'machine', 'motorcar']"
      ]
     },
     "execution_count": 17,
     "metadata": {},
     "output_type": "execute_result"
    }
   ],
   "source": [
    "##Wordnet\n",
    "id = wn.synsets('motorcar') #you get an id for subsets\n",
    "id[0].lemma_names() #head words/lemmas in the subset"
   ]
  },
  {
   "cell_type": "code",
   "execution_count": 18,
   "metadata": {
    "scrolled": true
   },
   "outputs": [
    {
     "name": "stdout",
     "output_type": "stream",
     "text": [
      "[('This', 'DT'), ('is', 'VBZ'), ('a', 'DT'), ('sentence', 'NN'), ('.', '.')]\n",
      "[('So', 'RB'), ('is', 'VBZ'), ('this', 'DT'), ('one', 'NN'), ('.', '.')]\n"
     ]
    }
   ],
   "source": [
    "##NLTK pipeline\n",
    "\n",
    "texts = [\"\"\"This is a sentence. So is this one.\"\"\"] #paste text after the three quotes, organize into lines\n",
    "\n",
    "for text in texts:\n",
    "    sentences = nltk.sent_tokenize(text)\n",
    "    for sentence in sentences:\n",
    "        words = nltk.word_tokenize(sentence)\n",
    "        tagged_words = nltk.pos_tag(words)\n",
    "        print(tagged_words)\n",
    "    "
   ]
  },
  {
   "cell_type": "code",
   "execution_count": 5,
   "metadata": {},
   "outputs": [
    {
     "ename": "NameError",
     "evalue": "name 'TweetTokenizer' is not defined",
     "output_type": "error",
     "traceback": [
      "\u001b[0;31m---------------------------------------------------------------------------\u001b[0m",
      "\u001b[0;31mNameError\u001b[0m                                 Traceback (most recent call last)",
      "\u001b[0;32m<ipython-input-5-56ee59a1f366>\u001b[0m in \u001b[0;36m<module>\u001b[0;34m()\u001b[0m\n\u001b[1;32m      8\u001b[0m \u001b[0;34m\u001b[0m\u001b[0m\n\u001b[1;32m      9\u001b[0m \u001b[0mpublic_tweets\u001b[0m \u001b[0;34m=\u001b[0m \u001b[0mapi\u001b[0m\u001b[0;34m.\u001b[0m\u001b[0mhome_timeline\u001b[0m\u001b[0;34m(\u001b[0m\u001b[0;34m)\u001b[0m\u001b[0;34m\u001b[0m\u001b[0m\n\u001b[0;32m---> 10\u001b[0;31m \u001b[0mtknzr\u001b[0m \u001b[0;34m=\u001b[0m \u001b[0mTweetTokenizer\u001b[0m\u001b[0;34m(\u001b[0m\u001b[0;34m)\u001b[0m\u001b[0;34m\u001b[0m\u001b[0m\n\u001b[0m\u001b[1;32m     11\u001b[0m \u001b[0;32mfor\u001b[0m \u001b[0mtweet\u001b[0m \u001b[0;32min\u001b[0m \u001b[0mpublic_tweets\u001b[0m\u001b[0;34m:\u001b[0m\u001b[0;34m\u001b[0m\u001b[0m\n\u001b[1;32m     12\u001b[0m     \u001b[0mprint\u001b[0m\u001b[0;34m(\u001b[0m\u001b[0;34m\"Tweet: \"\u001b[0m\u001b[0;34m,\u001b[0m\u001b[0mtweet\u001b[0m\u001b[0;34m.\u001b[0m\u001b[0mtext\u001b[0m\u001b[0;34m)\u001b[0m\u001b[0;34m\u001b[0m\u001b[0m\n",
      "\u001b[0;31mNameError\u001b[0m: name 'TweetTokenizer' is not defined"
     ]
    }
   ],
   "source": [
    "##Implementing tokenization\n",
    "#Twitter aware tokenizer\n",
    "\n",
    "auth = tweepy.OAuthHandler(\"1SwbipX3sXhWt3FuouDjkwBoO\", \"aWrGq84Vyex3e44Lg7UENhOS5WfbqWMvPwJBwBCJJqTbHUONG8\")\n",
    "auth.set_access_token(\"2836413980-FAAt3qj1pM51RCvw52x6E3RauFDSJc49NVzxlfQ\", \"G91NNwByh5SAPbdXAS4uQSRHsEKfaNpmLFyqC9EvfoiIT\")\n",
    "\n",
    "api = tweepy.API(auth)\n",
    "\n",
    "public_tweets = api.home_timeline()\n",
    "tknzr = TweetTokenizer()\n",
    "for tweet in public_tweets:\n",
    "    print(\"Tweet: \",tweet.text)\n",
    "    sent = nltk.sent_tokenize(tweet.text)\n",
    "    print(\"Sentence tokenization: \", sent)\n",
    "    word = nltk.word_tokenize(tweet.text)\n",
    "    print(\"Word tokenization: \", word)\n",
    "    tweett = tknzr.tokenize(tweet.text)\n",
    "    print(\"Tweet tokenized: \",tweett)\n",
    "    print(\"\\n\")"
   ]
  },
  {
   "cell_type": "code",
   "execution_count": null,
   "metadata": {},
   "outputs": [],
   "source": []
  }
 ],
 "metadata": {
  "kernelspec": {
   "display_name": "Python 3",
   "language": "python",
   "name": "python3"
  },
  "language_info": {
   "codemirror_mode": {
    "name": "ipython",
    "version": 3
   },
   "file_extension": ".py",
   "mimetype": "text/x-python",
   "name": "python",
   "nbconvert_exporter": "python",
   "pygments_lexer": "ipython3",
   "version": "3.6.4"
  }
 },
 "nbformat": 4,
 "nbformat_minor": 2
}
